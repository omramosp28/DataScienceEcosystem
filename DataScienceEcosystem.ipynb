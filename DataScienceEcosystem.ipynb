{
 "cells": [
  {
   "cell_type": "markdown",
   "metadata": {},
   "source": [
    "<center>\n",
    "    <img src=\"https://cf-courses-data.s3.us.cloud-object-storage.appdomain.cloud/IBMDeveloperSkillsNetwork-DS0105EN-SkillsNetwork/labs/Module2/images/SN_web_lightmode.png\" width=\"300\" alt=\"cognitiveclass.ai logo\">\n",
    "</center>\n"
   ]
  },
  {
   "cell_type": "markdown",
   "metadata": {},
   "source": [
    "#### Add your code below following the instructions given in the course\n"
   ]
  },
  {
   "cell_type": "markdown",
   "metadata": {
    "tags": []
   },
   "source": [
    "# Data Science Tools and Ecosystem"
   ]
  },
  {
   "cell_type": "markdown",
   "metadata": {},
   "source": [
    "This booklet provides an overview of the tools and ecosystem used in Data Science."
   ]
  },
  {
   "cell_type": "markdown",
   "metadata": {},
   "source": [
    "### Some of the popular languages that Data Scientists use are:\n",
    "\n",
    "1. Python\n",
    "2. R\n",
    "3. SQL\n",
    "4. Julia"
   ]
  },
  {
   "cell_type": "markdown",
   "metadata": {},
   "source": [
    "### Some of the most popular libraries in data science are:\n",
    "- **Pandas**: For data manipulation and analysis.\n",
    "- **NumPy**: For numerical calculations.\n",
    "- **Matplotlib**: For data visualization.\n",
    "- **Scikit-learn**: For machine learning.\n",
    "- **TensorFlow**: For neural networks and deep learning."
   ]
  },
  {
   "cell_type": "markdown",
   "metadata": {},
   "source": [
    "### Some of the tools used in data science are:\n",
    "\n",
    "| Data Science Tools          | Description                                              |\n",
    "|-----------------------------|----------------------------------------------------------|\n",
    "| Jupyter Notebooks           | Interactive environment for writing and running code.    |\n",
    "| RStudio                     | IDE specialized for R, popular in statistics.            |\n",
    "| Apache Zeppelin             | Web-based tool for data analysis and visualization.      |\n",
    "| Spyder                      | Python IDE oriented towards data science.                |\n",
    "| Google Colab                | Cloud-based service for running Jupyter notebooks.       |\n",
    "| Visual Studio Code          | Extensible code editor supporting multiple languages.    |\n"
   ]
  },
  {
   "cell_type": "markdown",
   "metadata": {},
   "source": [
    "### Below are a few examples of evaluating arithmetic expressions in Python.\n",
    "\n",
    "Here are some examples:\n",
    "\n",
    "- Addition: `5 + 3` results in `8`\n",
    "- Subtraction: `10 - 4` results in `6`\n",
    "- Multiplication: `7 * 2` results in `14`\n",
    "- Division: `20 / 4` results in `5.0`\n",
    "- Exponentiation: `2 ** 3` results in `8`\n",
    "- Modulus: `10 % 3` results in `1`\n"
   ]
  },
  {
   "cell_type": "code",
   "execution_count": 1,
   "metadata": {
    "tags": []
   },
   "outputs": [
    {
     "data": {
      "text/plain": [
       "17"
      ]
     },
     "execution_count": 1,
     "metadata": {},
     "output_type": "execute_result"
    }
   ],
   "source": [
    "#This is an expression that performs addition and multiplication of integers\n",
    "\n",
    "result = (3 * 4) + 5\n",
    "result"
   ]
  },
  {
   "cell_type": "code",
   "execution_count": 2,
   "metadata": {
    "tags": []
   },
   "outputs": [
    {
     "data": {
      "text/plain": [
       "3.3333333333333335"
      ]
     },
     "execution_count": 2,
     "metadata": {},
     "output_type": "execute_result"
    }
   ],
   "source": [
    "# This will convert 200 minutes to hours by dividing by 60.\n",
    "minutes = 200\n",
    "hours = minutes / 60\n",
    "hours"
   ]
  },
  {
   "cell_type": "markdown",
   "metadata": {},
   "source": [
    "### **Objectives:**\n",
    "\n",
    "- Know the languages used in data science.\n",
    "- Know the most popular libraries used in data science.\n",
    "- know some tools used in data science.\n",
    "- Understand basic arithmetic operations in Python\n",
    "- Gain familiarity with Python code cells and markdown cells in Jupyter notebooks\n",
    "- Explore examples of arithmetic expressions and their evaluation\n",
    "- Practice writing and commenting code for simple calculations"
   ]
  },
  {
   "cell_type": "markdown",
   "metadata": {},
   "source": [
    "## Author\n",
    "\n",
    "Oscar Mauricio Ramos"
   ]
  },
  {
   "cell_type": "code",
   "execution_count": null,
   "metadata": {},
   "outputs": [],
   "source": []
  }
 ],
 "metadata": {
  "kernelspec": {
   "display_name": "Python",
   "language": "python",
   "name": "conda-env-python-py"
  },
  "language_info": {
   "codemirror_mode": {
    "name": "ipython",
    "version": 3
   },
   "file_extension": ".py",
   "mimetype": "text/x-python",
   "name": "python",
   "nbconvert_exporter": "python",
   "pygments_lexer": "ipython3",
   "version": "3.7.12"
  }
 },
 "nbformat": 4,
 "nbformat_minor": 4
}
